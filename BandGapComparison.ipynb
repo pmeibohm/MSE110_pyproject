{
 "cells": [
  {
   "cell_type": "code",
   "execution_count": 2,
   "id": "15ae1fc0-b519-4594-9118-ae9d18e2a641",
   "metadata": {
    "tags": []
   },
   "outputs": [
    {
     "name": "stdout",
     "output_type": "stream",
     "text": [
      "Comparing band gaps of metal oxides vs. metal nitrides...\n",
      "\n"
     ]
    },
    {
     "data": {
      "application/vnd.jupyter.widget-view+json": {
       "model_id": "f590eb1eff3d49a7b94e0d8830f3e00d",
       "version_major": 2,
       "version_minor": 0
      },
      "text/plain": [
       "Retrieving SummaryDoc documents:   0%|          | 0/124 [00:00<?, ?it/s]"
      ]
     },
     "metadata": {},
     "output_type": "display_data"
    },
    {
     "data": {
      "application/vnd.jupyter.widget-view+json": {
       "model_id": "b3c7c657fca74d1d8df8a2b165331561",
       "version_major": 2,
       "version_minor": 0
      },
      "text/plain": [
       "Retrieving SummaryDoc documents:   0%|          | 0/16 [00:00<?, ?it/s]"
      ]
     },
     "metadata": {},
     "output_type": "display_data"
    },
    {
     "data": {
      "application/vnd.jupyter.widget-view+json": {
       "model_id": "ffb3184e3c3e4e7a8af4f67bc6b6fd44",
       "version_major": 2,
       "version_minor": 0
      },
      "text/plain": [
       "Retrieving SummaryDoc documents:   0%|          | 0/31 [00:00<?, ?it/s]"
      ]
     },
     "metadata": {},
     "output_type": "display_data"
    },
    {
     "data": {
      "application/vnd.jupyter.widget-view+json": {
       "model_id": "447cd2a32f4c4598a8f8453997fa8690",
       "version_major": 2,
       "version_minor": 0
      },
      "text/plain": [
       "Retrieving SummaryDoc documents:   0%|          | 0/19 [00:00<?, ?it/s]"
      ]
     },
     "metadata": {},
     "output_type": "display_data"
    },
    {
     "data": {
      "application/vnd.jupyter.widget-view+json": {
       "model_id": "3a7f5a6ed42c4d339c93299403035c94",
       "version_major": 2,
       "version_minor": 0
      },
      "text/plain": [
       "Retrieving SummaryDoc documents:   0%|          | 0/15 [00:00<?, ?it/s]"
      ]
     },
     "metadata": {},
     "output_type": "display_data"
    },
    {
     "data": {
      "application/vnd.jupyter.widget-view+json": {
       "model_id": "4fed9c6ff38d4eb0994415df2731d174",
       "version_major": 2,
       "version_minor": 0
      },
      "text/plain": [
       "Retrieving SummaryDoc documents:   0%|          | 0/16 [00:00<?, ?it/s]"
      ]
     },
     "metadata": {},
     "output_type": "display_data"
    },
    {
     "data": {
      "application/vnd.jupyter.widget-view+json": {
       "model_id": "c4d629630c2941fc8bf219105b454053",
       "version_major": 2,
       "version_minor": 0
      },
      "text/plain": [
       "Retrieving SummaryDoc documents:   0%|          | 0/209 [00:00<?, ?it/s]"
      ]
     },
     "metadata": {},
     "output_type": "display_data"
    },
    {
     "data": {
      "application/vnd.jupyter.widget-view+json": {
       "model_id": "84bab9a5a38a4cdab711691dc7320e1c",
       "version_major": 2,
       "version_minor": 0
      },
      "text/plain": [
       "Retrieving SummaryDoc documents:   0%|          | 0/14 [00:00<?, ?it/s]"
      ]
     },
     "metadata": {},
     "output_type": "display_data"
    },
    {
     "data": {
      "application/vnd.jupyter.widget-view+json": {
       "model_id": "ad841e4a814045b9b85612bf275d8330",
       "version_major": 2,
       "version_minor": 0
      },
      "text/plain": [
       "Retrieving SummaryDoc documents:   0%|          | 0/33 [00:00<?, ?it/s]"
      ]
     },
     "metadata": {},
     "output_type": "display_data"
    },
    {
     "data": {
      "application/vnd.jupyter.widget-view+json": {
       "model_id": "6604d879ce384e65b3a7a45a9a2d5580",
       "version_major": 2,
       "version_minor": 0
      },
      "text/plain": [
       "Retrieving SummaryDoc documents:   0%|          | 0/24 [00:00<?, ?it/s]"
      ]
     },
     "metadata": {},
     "output_type": "display_data"
    },
    {
     "data": {
      "application/vnd.jupyter.widget-view+json": {
       "model_id": "c0282033f54b47bf8b215999be07b9d7",
       "version_major": 2,
       "version_minor": 0
      },
      "text/plain": [
       "Retrieving SummaryDoc documents:   0%|          | 0/43 [00:00<?, ?it/s]"
      ]
     },
     "metadata": {},
     "output_type": "display_data"
    },
    {
     "data": {
      "application/vnd.jupyter.widget-view+json": {
       "model_id": "a4b398e05c7e4f74b1cf9bba75b5e715",
       "version_major": 2,
       "version_minor": 0
      },
      "text/plain": [
       "Retrieving SummaryDoc documents:   0%|          | 0/28 [00:00<?, ?it/s]"
      ]
     },
     "metadata": {},
     "output_type": "display_data"
    },
    {
     "data": {
      "application/vnd.jupyter.widget-view+json": {
       "model_id": "1472e8029c94484ba4d06e0be4853b02",
       "version_major": 2,
       "version_minor": 0
      },
      "text/plain": [
       "Retrieving SummaryDoc documents:   0%|          | 0/90 [00:00<?, ?it/s]"
      ]
     },
     "metadata": {},
     "output_type": "display_data"
    },
    {
     "data": {
      "application/vnd.jupyter.widget-view+json": {
       "model_id": "96988b9e7c704b09a6ac5c036aebec73",
       "version_major": 2,
       "version_minor": 0
      },
      "text/plain": [
       "Retrieving SummaryDoc documents:   0%|          | 0/103 [00:00<?, ?it/s]"
      ]
     },
     "metadata": {},
     "output_type": "display_data"
    },
    {
     "data": {
      "application/vnd.jupyter.widget-view+json": {
       "model_id": "282ad53ef62442da9a028b6576272564",
       "version_major": 2,
       "version_minor": 0
      },
      "text/plain": [
       "Retrieving SummaryDoc documents:   0%|          | 0/71 [00:00<?, ?it/s]"
      ]
     },
     "metadata": {},
     "output_type": "display_data"
    },
    {
     "data": {
      "application/vnd.jupyter.widget-view+json": {
       "model_id": "c78f4674a30943259eab5f5dc0ad9bec",
       "version_major": 2,
       "version_minor": 0
      },
      "text/plain": [
       "Retrieving SummaryDoc documents:   0%|          | 0/21 [00:00<?, ?it/s]"
      ]
     },
     "metadata": {},
     "output_type": "display_data"
    },
    {
     "data": {
      "application/vnd.jupyter.widget-view+json": {
       "model_id": "ac94bebf01124b8cbeb60819947a7969",
       "version_major": 2,
       "version_minor": 0
      },
      "text/plain": [
       "Retrieving SummaryDoc documents:   0%|          | 0/96 [00:00<?, ?it/s]"
      ]
     },
     "metadata": {},
     "output_type": "display_data"
    },
    {
     "data": {
      "application/vnd.jupyter.widget-view+json": {
       "model_id": "612ae72ab68a45b3bb0bab18f3af175f",
       "version_major": 2,
       "version_minor": 0
      },
      "text/plain": [
       "Retrieving SummaryDoc documents:   0%|          | 0/29 [00:00<?, ?it/s]"
      ]
     },
     "metadata": {},
     "output_type": "display_data"
    },
    {
     "data": {
      "application/vnd.jupyter.widget-view+json": {
       "model_id": "8c3a6533f1744f8786c3768ecadace94",
       "version_major": 2,
       "version_minor": 0
      },
      "text/plain": [
       "Retrieving SummaryDoc documents:   0%|          | 0/140 [00:00<?, ?it/s]"
      ]
     },
     "metadata": {},
     "output_type": "display_data"
    },
    {
     "data": {
      "application/vnd.jupyter.widget-view+json": {
       "model_id": "e9724da5801f42dab5413099d21c3474",
       "version_major": 2,
       "version_minor": 0
      },
      "text/plain": [
       "Retrieving SummaryDoc documents:   0%|          | 0/20 [00:00<?, ?it/s]"
      ]
     },
     "metadata": {},
     "output_type": "display_data"
    },
    {
     "name": "stdout",
     "output_type": "stream",
     "text": [
      "  Metal  Oxide Band Gap  Nitride Band Gap\n",
      "0    Ti        0.000000            0.0000\n",
      "1    Zr        1.177400            0.3235\n",
      "2    Hf        4.117333            0.4216\n",
      "3     V        0.973133            0.0000\n",
      "4    Nb        0.591033            0.0000\n",
      "5    Ta        1.962433            0.4047\n",
      "6    Cr        0.612233            0.0000\n",
      "7    Mo        0.469733            0.0000\n",
      "8     W        0.452833            0.4926\n",
      "9    Fe        0.605233            0.0000\n"
     ]
    },
    {
     "data": {
      "image/png": "[encoded data removed]",
      "text/plain": [
       "<Figure size 1000x600 with 1 Axes>"
      ]
     },
     "metadata": {},
     "output_type": "display_data"
    }
   ],
   "source": [
    "import matplotlib.pyplot as plt\n",
    "import pandas as pd\n",
    "from mp_api.client import MPRester\n",
    "\n",
    "#Materials Project API Key must be inputted here\n",
    "API_KEY = \"vY4eQRy8RVhz0KWArWojEAkcMRoc8pfU\"  #replace with your personal API key\n",
    "\n",
    "#list of metals to analyze, can be changed, added to, subtracted from\n",
    "metals = [\"Ti\", \"Zr\", \"Hf\", \"V\", \"Nb\", \"Ta\", \"Cr\", \"Mo\", \"W\", \"Fe\"]\n",
    "\n",
    "def get_average_band_gap(metal, anion, mpr): #calculate average band gap\n",
    "    chemsys = f\"{metal}-{anion}\"\n",
    "    docs = mpr.materials.summary.search( #query listed materials for the following properties:\n",
    "        chemsys=chemsys,\n",
    "        fields=[\"material_id\", \"formula_pretty\", \"band_gap\", \"energy_above_hull\"]\n",
    "    )\n",
    "    #filter stable materials, energy less than 0.1 eV\n",
    "    stable = [ \n",
    "        doc for doc in docs\n",
    "        if doc.energy_above_hull is not None and doc.energy_above_hull < 0.1 and doc.band_gap is not None\n",
    "    ]\n",
    "    if not stable: #if stable materials NA, return None\n",
    "        return None\n",
    "\n",
    "    top = sorted(stable, key=lambda d: d.energy_above_hull)[:3] #sort by stability\n",
    "    return sum(d.band_gap for d in top) / len(top)\n",
    "\n",
    "def compare_band_gaps():\n",
    "    print(\"Comparing band gaps of metal oxides vs. metal nitrides...\\n\")\n",
    "    data = [] #initialize matrix to store band gap values for each metal\n",
    "\n",
    "    with MPRester(API_KEY) as mpr:\n",
    "        for metal in metals: #loop through each metal in list\n",
    "            oxide_gap = get_average_band_gap(metal, \"O\", mpr) #avg band gap for oxide\n",
    "            nitride_gap = get_average_band_gap(metal, \"N\", mpr) #avg band gap for nitride\n",
    "            data.append({ #append results to data list\n",
    "                \"Metal\": metal,\n",
    "                \"Oxide Band Gap\": oxide_gap,\n",
    "                \"Nitride Band Gap\": nitride_gap\n",
    "            })\n",
    "\n",
    "    df = pd.DataFrame(data) #convert data list to a DataFrame\n",
    "    print(df)\n",
    "\n",
    "    #Plot bar chart\n",
    "    x = df[\"Metal\"]\n",
    "    width = 0.35\n",
    "    fig, ax = plt.subplots(figsize=(10, 6))\n",
    "    ax.bar(x, df[\"Oxide Band Gap\"], width, label=\"Oxide\", color=\"skyblue\")\n",
    "    ax.bar(x, df[\"Nitride Band Gap\"], width, label=\"Nitride\", color=\"lightgreen\", bottom=df[\"Oxide Band Gap\"].where(df[\"Nitride Band Gap\"].isnull(), 0))\n",
    "\n",
    "    ax.set_ylabel(\"Average Band Gap (eV)\")\n",
    "    ax.set_title(\"Band Gaps of Metal Oxides vs Metal Nitrides\")\n",
    "    ax.legend()\n",
    "    plt.xticks(rotation=45)\n",
    "    plt.tight_layout()\n",
    "    plt.show()\n",
    "\n",
    "if __name__ == \"__main__\":\n",
    "    compare_band_gaps()\n",
    "\n"
   ]
  },
  {
   "cell_type": "code",
   "execution_count": null,
   "id": "b249dd5d-695c-4287-af57-1a455a9fb128",
   "metadata": {},
   "outputs": [],
   "source": []
  }
 ],
 "metadata": {
  "kernelspec": {
   "display_name": "Python 3 (ipykernel)",
   "language": "python",
   "name": "python3"
  },
  "language_info": {
   "codemirror_mode": {
    "name": "ipython",
    "version": 3
   },
   "file_extension": ".py",
   "mimetype": "text/x-python",
   "name": "python",
   "nbconvert_exporter": "python",
   "pygments_lexer": "ipython3",
   "version": "3.10.16"
  }
 },
 "nbformat": 4,
 "nbformat_minor": 5
}
